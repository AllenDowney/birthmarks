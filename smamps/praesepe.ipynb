{
 "cells": [
  {
   "cell_type": "code",
   "execution_count": 1,
   "metadata": {},
   "outputs": [
    {
     "name": "stderr",
     "output_type": "stream",
     "text": [
      "WARNING: W27: None:74:2: W27: COOSYS deprecated in VOTable 1.2 [astropy.io.votable.tree]\n",
      "WARNING: W03: None:87:4: W03: Implicitly generating an ID from a name 'r'mag' -> 'r_mag' [astropy.io.votable.xmlutil]\n",
      "WARNING: W03: None:105:4: W03: Implicitly generating an ID from a name 'Clean?' -> 'Clean_' [astropy.io.votable.xmlutil]\n",
      "WARNING: W03: None:124:4: W03: Implicitly generating an ID from a name 'MP?' -> 'MP_' [astropy.io.votable.xmlutil]\n",
      "WARNING: W03: None:127:4: W03: Implicitly generating an ID from a name 'SE?' -> 'SE_' [astropy.io.votable.xmlutil]\n",
      "WARNING: W03: None:130:4: W03: Implicitly generating an ID from a name 'Bl?' -> 'Bl_' [astropy.io.votable.xmlutil]\n",
      "WARNING: W03: None:133:4: W03: Implicitly generating an ID from a name 'Bin?' -> 'Bin_' [astropy.io.votable.xmlutil]\n",
      "WARNING: W03: None:180:4: W03: Implicitly generating an ID from a name '2M' -> '_2M' [astropy.io.votable.xmlutil]\n",
      "WARNING: W49: None:195:140: W49: Empty cell illegal for integer fields. [astropy.io.votable.converters]\n",
      "WARNING: W49: None:196:141: W49: Empty cell illegal for integer fields. [astropy.io.votable.converters]\n",
      "WARNING: W49: None:197:159: W49: Empty cell illegal for integer fields. [astropy.io.votable.converters]\n",
      "WARNING: W49: None:198:160: W49: Empty cell illegal for integer fields. [astropy.io.votable.converters]\n",
      "WARNING: W49: None:199:154: W49: Empty cell illegal for integer fields. [astropy.io.votable.converters]\n",
      "WARNING: W49: None:200:136: W49: Empty cell illegal for integer fields. [astropy.io.votable.converters]\n",
      "WARNING: W49: None:201:157: W49: Empty cell illegal for integer fields. [astropy.io.votable.converters]\n",
      "WARNING: W49: None:202:157: W49: Empty cell illegal for integer fields. [astropy.io.votable.converters]\n",
      "WARNING: W49: None:203:157: W49: Empty cell illegal for integer fields. [astropy.io.votable.converters]\n",
      "WARNING: W49: None:204:157: W49: Empty cell illegal for integer fields. (suppressing further warnings of this type...) [astropy.io.votable.converters]\n"
     ]
    }
   ],
   "source": [
    "%matplotlib inline\n",
    "import matplotlib.pyplot as plt\n",
    "import numpy as np\n",
    "from astropy.table import Table\n",
    "import astropy.units as u\n",
    "\n",
    "table = Table.read('../data/douglas2017.vot')"
   ]
  },
  {
   "cell_type": "code",
   "execution_count": 5,
   "metadata": {},
   "outputs": [],
   "source": [
    "fgk = table[table['Mass'] > 0.6 * u.M_sun]"
   ]
  },
  {
   "cell_type": "code",
   "execution_count": 16,
   "metadata": {},
   "outputs": [],
   "source": [
    "smoothed_amps_pra = 2 * fgk['SmAmp'].data / 100\n",
    "pra_periods = fgk['Prot1'].data\n",
    "\n",
    "notmasked = ~smoothed_amps_pra.mask & ~pra_periods.mask"
   ]
  },
  {
   "cell_type": "code",
   "execution_count": 15,
   "metadata": {},
   "outputs": [],
   "source": [
    "np.save('data/pra_amps.npy', smoothed_amps_pra[notmasked].data)\n",
    "np.save('data/pra_pers.npy', pra_periods[notmasked].data)"
   ]
  },
  {
   "cell_type": "code",
   "execution_count": null,
   "metadata": {},
   "outputs": [],
   "source": []
  }
 ],
 "metadata": {
  "kernelspec": {
   "display_name": "Python 3",
   "language": "python",
   "name": "python3"
  },
  "language_info": {
   "codemirror_mode": {
    "name": "ipython",
    "version": 3
   },
   "file_extension": ".py",
   "mimetype": "text/x-python",
   "name": "python",
   "nbconvert_exporter": "python",
   "pygments_lexer": "ipython3",
   "version": "3.7.4"
  }
 },
 "nbformat": 4,
 "nbformat_minor": 4
}
