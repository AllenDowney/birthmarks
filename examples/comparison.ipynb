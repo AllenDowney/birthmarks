{
 "cells": [
  {
   "cell_type": "code",
   "execution_count": 1,
   "metadata": {},
   "outputs": [],
   "source": [
    "%matplotlib inline\n",
    "import numpy as np\n",
    "import matplotlib.pyplot as plt"
   ]
  },
  {
   "cell_type": "code",
   "execution_count": 77,
   "metadata": {},
   "outputs": [],
   "source": [
    "t = np.linspace(0.01, 4.6, 50)  # Gyr\n",
    "\n",
    "m = -0.371 \n",
    "m_err = 0.157\n",
    "b = -1.867\n",
    "b_err = 0.205\n",
    "\n",
    "n = 5000\n",
    "f_S = 10**(b + b_err * np.random.randn(n)[:, None]) * t ** (m + m_err * np.random.randn(n)[:, None])"
   ]
  },
  {
   "cell_type": "code",
   "execution_count": 78,
   "metadata": {},
   "outputs": [],
   "source": [
    "lower_env, upper_env = np.percentile(f_S, [16, 84], axis=0)"
   ]
  },
  {
   "cell_type": "code",
   "execution_count": 79,
   "metadata": {},
   "outputs": [
    {
     "name": "stdout",
     "output_type": "stream",
     "text": [
      "V1298 Tau $f_S = {0.055}^{+0.062}_{-0.029}$\n",
      "DS Tuc A $f_S = {0.043}^{+0.042}_{-0.021}$\n",
      "Qatar-4 $f_S = {0.026}^{+0.019}_{-0.011}$\n",
      "Kepler-411 $f_S = {0.024}^{+0.017}_{-0.010}$\n",
      "Kepler-289 $f_S = {0.016}^{+0.010}_{-0.006}$\n",
      "Sun $f_S = {0.008}^{+0.005}_{-0.003}$\n"
     ]
    }
   ],
   "source": [
    "names = ['V1298 Tau', 'DS Tuc A', 'Qatar-4', 'Kepler-411', 'Kepler-289', 'Sun']\n",
    "ages = [0.023, 0.045, 0.170, 0.212, 0.65, 4.6]\n",
    "for name, age in zip(names, ages):\n",
    "    lo = 10 ** np.interp(np.log10(age), np.log10(t), np.log10(lower_env))\n",
    "    mid = 10 ** np.interp(np.log10(age), np.log10(t), np.log10(10**b * t ** m))\n",
    "    hi = 10 ** np.interp(np.log10(age), np.log10(t), np.log10(upper_env))\n",
    "\n",
    "    print(name, f\"$f_S = {{{mid:.3f}}}^{{+{hi-mid:.3f}}}_{{-{mid-lo:.3f}}}$\")"
   ]
  },
  {
   "cell_type": "code",
   "execution_count": 80,
   "metadata": {},
   "outputs": [],
   "source": [
    "dstuc = np.load('data/dstuc.npy')\n",
    "v1298 = np.load('data/v1298.npy')\n",
    "kep411 = np.load('data/kepler411.npy')\n",
    "qatar4 = np.load('data/qatar4.npy')\n",
    "kep289 = np.load('data/kepler289.npy')"
   ]
  },
  {
   "cell_type": "code",
   "execution_count": 82,
   "metadata": {},
   "outputs": [
    {
     "data": {
      "image/png": "[encoded data removed]",
      "text/plain": [
       "<Figure size 288x216 with 1 Axes>"
      ]
     },
     "metadata": {
      "needs_background": "light"
     },
     "output_type": "display_data"
    }
   ],
   "source": [
    "fig, ax = plt.subplots(figsize=(4, 3))\n",
    "\n",
    "formatter = dict(fmt='.', ecolor='gray', color='k')\n",
    "ax.errorbar(0.023, v1298[0], xerr=0.004, yerr=v1298[1:3][::-1][:, None], **formatter)\n",
    "ax.errorbar(0.045, dstuc[0], xerr=0.004, yerr=dstuc[1:3][::-1][:, None], **formatter)\n",
    "ax.errorbar(0.170, qatar4[0], xerr=0.010, yerr=qatar4[1:3][::-1][:, None], **formatter)\n",
    "ax.errorbar(0.212, kep411[0], xerr=0.031, yerr=kep411[1:3][::-1][:, None], **formatter)\n",
    "ax.errorbar(0.400, 0.025, xerr=[[0.2], [0.3]], yerr=[[0.015], [0.015]], **formatter)\n",
    "ax.errorbar(0.650, kep289[0], xerr=0.44, yerr=kep289[1:3][::-1][:, None], **formatter)\n",
    "ax.scatter(4.6, 0.005, marker='$\\odot$', color='k', s=100)\n",
    "\n",
    "# ax.arrow(4.6, 0.005, 0, -1e-20, color='gray')\n",
    "ax.annotate('', xy=(4.66, 0.0025), xytext=(4.66, 0.005), \n",
    "            arrowprops=dict(facecolor='gray', shrink=0., lw=0., \n",
    "                            width=1.5, headwidth=5, headlength=5),\n",
    "            zorder=-30)\n",
    "\n",
    "ax.loglog(t, 10**b * t ** m, color='k')\n",
    "\n",
    "yticks = [0.001, 0.01, 0.10]\n",
    "ax.set_yticks(yticks)\n",
    "ax.set_yticklabels([\"{0:.2f}\".format(i) for i in yticks])\n",
    "ax.set_ylim([0.002, 0.3])\n",
    "\n",
    "xticks = [0.01, 0.1, 1, 10]\n",
    "ax.set_xticks(xticks)\n",
    "ax.set_xticklabels([\"{0:g}\".format(i) for i in xticks])\n",
    "\n",
    "ax.set_xlabel('Age [Gyr]', fontsize=12)\n",
    "ax.set_ylabel('$f_S$', fontsize=12)\n",
    "ax.fill_between(t, lower_env, upper_env, alpha=0.2, color='silver', zorder=-10, lw=0)\n",
    "\n",
    "for sp in ['right', 'top']:\n",
    "    ax.spines[sp].set_visible(False)\n",
    "    \n",
    "fig.savefig('plots/fs_comparison.pdf', bbox_inches='tight')"
   ]
  },
  {
   "cell_type": "code",
   "execution_count": null,
   "metadata": {},
   "outputs": [],
   "source": []
  }
 ],
 "metadata": {
  "kernelspec": {
   "display_name": "Python 3",
   "language": "python",
   "name": "python3"
  },
  "language_info": {
   "codemirror_mode": {
    "name": "ipython",
    "version": 3
   },
   "file_extension": ".py",
   "mimetype": "text/x-python",
   "name": "python",
   "nbconvert_exporter": "python",
   "pygments_lexer": "ipython3",
   "version": "3.7.3"
  }
 },
 "nbformat": 4,
 "nbformat_minor": 4
}
