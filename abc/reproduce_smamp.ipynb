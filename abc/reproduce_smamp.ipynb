{
 "cells": [
  {
   "cell_type": "code",
   "execution_count": 1,
   "metadata": {},
   "outputs": [],
   "source": [
    "%matplotlib inline\n",
    "import matplotlib.pyplot as plt\n",
    "import numpy as np\n",
    "import astropy.units as u"
   ]
  },
  {
   "cell_type": "code",
   "execution_count": 140,
   "metadata": {},
   "outputs": [],
   "source": [
    "samples_usco = np.load('data/usco_samples.npy')\n",
    "samples_ucl = np.load('data/ucl_samples.npy')\n",
    "samples_psceri = np.load('data/psceri_samples.npy')\n",
    "samples_praesepe = np.load('../../zeitsprung/data/abc_samples_slow.npy')\n",
    "samples_ngc6811 = np.load('data/ngc6811_samples.npy')\n",
    "samples_m67 = np.load('data/m67_samples.npy')"
   ]
  },
  {
   "cell_type": "code",
   "execution_count": 141,
   "metadata": {},
   "outputs": [],
   "source": [
    "smamps_usco = np.load('../smamps/data/usco_amps.npy')\n",
    "smamps_ucl = np.load('../smamps/data/ucl_amps.npy')\n",
    "smamps_psceri = np.load('../smamps/data/psc_amps.npy')\n",
    "smamps_praesepe = np.loadtxt('../../zeitsprung/data/amps_slow.txt') / 100\n",
    "smamps_ngc6811 = np.load('../smamps/data/ngc_amps.npy')\n",
    "smamps_m67 = np.load('../smamps/data/m67_amps.npy')"
   ]
  },
  {
   "cell_type": "code",
   "execution_count": 142,
   "metadata": {},
   "outputs": [],
   "source": [
    "samples = [samples_usco, samples_ucl, samples_psceri, samples_praesepe, samples_ngc6811, samples_m67]\n",
    "\n",
    "from fleck import Star, generate_spots\n",
    "\n",
    "ld = [0.5079, 0.2239]\n"
   ]
  },
  {
   "cell_type": "code",
   "execution_count": 143,
   "metadata": {},
   "outputs": [],
   "source": [
    "names = ['USCO', 'UCL', 'Psc-Eri', 'Praesepe', 'NGC 6811', 'M67']"
   ]
  },
  {
   "cell_type": "code",
   "execution_count": 146,
   "metadata": {},
   "outputs": [
    {
     "name": "stderr",
     "output_type": "stream",
     "text": [
      "//anaconda3/lib/python3.7/site-packages/ipykernel_launcher.py:41: RuntimeWarning: divide by zero encountered in log10\n"
     ]
    },
    {
     "data": {
      "image/png": "[encoded data removed]",
      "text/plain": [
       "<Figure size 216x576 with 6 Axes>"
      ]
     },
     "metadata": {
      "needs_background": "light"
     },
     "output_type": "display_data"
    }
   ],
   "source": [
    "fig, ax = plt.subplots(6, 1, figsize=(3, 8), sharey=True)\n",
    "props = dict(range=[-2.5, 1.5], bins=10, density=True)\n",
    "\n",
    "alpha = 0.8\n",
    "\n",
    "ax[0].hist(np.log10(smamps_usco) + 2, histtype='stepfilled', \n",
    "           color=cmap(0), alpha=alpha, **props)\n",
    "ax[1].hist(np.log10(smamps_ucl) + 2, histtype='stepfilled', \n",
    "           color=cmap(1), alpha=alpha, **props)\n",
    "ax[2].hist(np.log10(smamps_psceri) + 2, histtype='stepfilled', \n",
    "           color=cmap(2), alpha=alpha, **props)\n",
    "ax[3].hist(np.log10(smamps_praesepe) + 2, histtype='stepfilled', \n",
    "           color=cmap(3), alpha=alpha, **props)\n",
    "ax[4].hist(np.log10(smamps_ngc6811) + 2, histtype='stepfilled', \n",
    "           color=cmap(4), alpha=alpha, **props)\n",
    "ax[5].hist(np.log10(smamps_m67) + 2, histtype='stepfilled', \n",
    "           color=cmap(5), alpha=alpha, **props)\n",
    "ax[5].set_xlabel('Smoothed Amp (%)')\n",
    "\n",
    "cmap = lambda x: plt.cm.viridis(x/4)\n",
    "\n",
    "np.random.seed(0)\n",
    "\n",
    "for i, s, name in zip(range(len(samples)), samples, names): \n",
    "#     min_lat, rspot, c = np.median(s, axis=0)\n",
    "    max_lat, rspot, c = s[np.random.randint(0, len(s))]\n",
    "    n_inclinations = 5000\n",
    "    n_spots = 3\n",
    "#     rads = rspot * np.ones((n_spots, n_inclinations))\n",
    "#     #lats = (180*np.random.rand(n_spots, n_inclinations) - 90) * u.deg\n",
    "#     lats = (2 * max_lat * np.random.rand(n_spots, n_inclinations) - 90) * u.deg\n",
    "    lons, lats, rads, incs= generate_spots(min_latitude=-max_lat, max_latitude=max_lat, spot_radius=rspot, \n",
    "                                           n_spots=n_spots, n_inclinations=n_inclinations)\n",
    "#     plt.hist(lats.value.ravel())\n",
    "#     plt.show()\n",
    "#     lons = 360 * np.random.rand(n_spots, n_inclinations) * u.deg\n",
    "#     incs = (180*np.random.rand(n_inclinations) - 90) * u.deg\n",
    "    stars = Star(spot_contrast=c, n_phases=30, u_ld=ld)\n",
    "    lcs = stars.light_curve(lons, lats, rads, incs)\n",
    "\n",
    "    ax[i].hist(np.log10(lcs.ptp(axis=0)) + 2, \n",
    "               histtype='step', lw=3, color='silver', **props)\n",
    "    ax[i].annotate(name, (np.log10(0.003), 1.0), ha='left')\n",
    "    \n",
    "ax[2].set_ylabel('Frequency')\n",
    "    \n",
    "for axis in ax: \n",
    "    xticks = axis.get_xticks()\n",
    "    axis.set_xticklabels([\"{0:.2g}\".format(10**xt) for xt in xticks])\n",
    "    \n",
    "fig.tight_layout()\n",
    "\n",
    "for axis in ax: \n",
    "    for s in ['right', 'top']: \n",
    "        axis.spines[s].set_visible(False)\n",
    "        \n",
    "fig.savefig('plots/reproduce_smamps.pdf', bbox_inches='tight')"
   ]
  },
  {
   "cell_type": "raw",
   "metadata": {},
   "source": []
  }
 ],
 "metadata": {
  "kernelspec": {
   "display_name": "Python 3",
   "language": "python",
   "name": "python3"
  },
  "language_info": {
   "codemirror_mode": {
    "name": "ipython",
    "version": 3
   },
   "file_extension": ".py",
   "mimetype": "text/x-python",
   "name": "python",
   "nbconvert_exporter": "python",
   "pygments_lexer": "ipython3",
   "version": "3.7.3"
  }
 },
 "nbformat": 4,
 "nbformat_minor": 4
}
