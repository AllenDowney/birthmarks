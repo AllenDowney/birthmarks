{
 "cells": [
  {
   "cell_type": "code",
   "execution_count": 2,
   "metadata": {},
   "outputs": [],
   "source": [
    "%matplotlib inline\n",
    "import matplotlib.pyplot as plt\n",
    "import numpy as np\n",
    "import astropy.units as u"
   ]
  },
  {
   "cell_type": "code",
   "execution_count": 23,
   "metadata": {},
   "outputs": [
    {
     "name": "stdout",
     "output_type": "stream",
     "text": [
      "fs_{USCO} = $9.20_{-4.60}^{+9.21}$\n",
      "fs_{UCL} = $6.44_{-3.45}^{+7.45}$\n",
      "fs_{Psc-Eri} = $3.17_{-1.70}^{+3.69}$\n",
      "fs_{Praesepe} = $2.79_{-1.62}^{+3.88}$\n",
      "fs_{NGC 6811} = $0.91_{-0.58}^{+1.61}$\n",
      "fs_{M67} = $0.75_{-0.48}^{+1.34}$\n"
     ]
    },
    {
     "data": {
      "image/png": "[encoded data removed]",
      "text/plain": [
       "<Figure size 288x216 with 1 Axes>"
      ]
     },
     "metadata": {
      "needs_background": "light"
     },
     "output_type": "display_data"
    }
   ],
   "source": [
    "samples_usco = np.load('data/usco_samples.npy')\n",
    "samples_ucl = np.load('data/ucl_samples.npy')\n",
    "samples_psceri = np.load('data/psceri_samples.npy')\n",
    "samples_praesepe = np.load('../../zeitsprung/data/abc_samples_slow.npy')\n",
    "samples_ngc6811 = np.load('data/ngc6811_samples.npy')\n",
    "samples_m67 = np.load('data/m67_samples.npy')\n",
    "\n",
    "bins = 70\n",
    "bin_range = [-3.5, np.log10(0.5)]#[0.001, 0.1]\n",
    "fig, ax = plt.subplots(figsize=(4, 3))\n",
    "\n",
    "cmap = lambda x: plt.cm.viridis(x/5)\n",
    "\n",
    "\n",
    "def plot_fs_posterior(samples_fast, label, color):\n",
    "    fs_fast = np.pi * 3 * samples_fast[:, 1]**2 / (4*np.pi)\n",
    "\n",
    "    ax.hist(np.log10(fs_fast), color=color, bins=bins, alpha=1, density=True, range=bin_range, \n",
    "            label=label, histtype='step', lw=2);\n",
    "\n",
    "    mu_fast, std_fast =  np.log10(fs_fast).mean(), np.log10(fs_fast).std()\n",
    "\n",
    "    mid_fast, lower_fast, upper_fast = 100 * 10**(mu_fast), 100 * 10**(mu_fast-std_fast), 100 * 10**(mu_fast+std_fast)\n",
    "\n",
    "    print('fs_{{{3}}} = ${0:.2f}_{{-{1:.2f}}}^{{+{2:.2f}}}$'.format(mid_fast, mid_fast-lower_fast, upper_fast-mid_fast, label))\n",
    "\n",
    "\n",
    "plot_fs_posterior(samples_usco, 'USCO', color=cmap(0))\n",
    "plot_fs_posterior(samples_ucl, 'UCL', color=cmap(1))\n",
    "plot_fs_posterior(samples_psceri, 'Psc-Eri', color=cmap(2))\n",
    "plot_fs_posterior(samples_praesepe, 'Praesepe', color=cmap(3))\n",
    "plot_fs_posterior(samples_ngc6811, 'NGC 6811', color=cmap(4))\n",
    "plot_fs_posterior(samples_m67, 'M67', color=cmap(5))\n",
    "\n",
    "for s in ['right', 'top']: \n",
    "    ax.spines[s].set_visible(False)\n",
    "fs = 15\n",
    "ax.set_xlabel('$f_S$', fontsize=fs)\n",
    "\n",
    "ax.set_ylabel('Posterior PDF', fontsize=fs)\n",
    "ax.set_xticks([-3, -2, -1, np.log10(0.5)])\n",
    "ax.set_xticks(#np.log10(np.arange(0.0001, 0.001, 0.0001)).tolist() + \n",
    "              np.log10(np.arange(0.001, 0.01, 0.001)).tolist() + \n",
    "              np.log10(np.arange(0.01, 0.1, 0.01)).tolist() + \n",
    "              np.log10(np.arange(0.1, 0.5, 0.1)).tolist(), minor=True)\n",
    "# ax.grid(False, which='minor')\n",
    "ax.set_xticklabels(['0.001', '0.01', '0.1', '0.5'])\n",
    "ax.set_xlim([-3.2, np.log10(0.5)])\n",
    "# plt.legend(loc=())\n",
    "plt.savefig('plots/fs_posterior.pdf', bbox_inches='tight')"
   ]
  },
  {
   "cell_type": "code",
   "execution_count": 25,
   "metadata": {},
   "outputs": [
    {
     "data": {
      "image/png": "[encoded data removed]",
      "text/plain": [
       "<Figure size 288x216 with 1 Axes>"
      ]
     },
     "metadata": {
      "needs_background": "light"
     },
     "output_type": "display_data"
    }
   ],
   "source": [
    "import seaborn\n",
    "\n",
    "ages = np.concatenate([0.010 * np.ones(len(samples_usco)),\n",
    "                       0.016 * np.ones(len(samples_ucl)),                       \n",
    "                       0.12 * np.ones(len(samples_psceri)),\n",
    "                       0.65 * np.ones(len(samples_praesepe)), \n",
    "                       1.0  * np.ones(len(samples_ngc6811)), \n",
    "                       4 * np.ones(len(samples_m67))])\n",
    "\n",
    "fs_series = np.concatenate([np.pi * 3 * samples_usco[:, 1]**2 / (4*np.pi), \n",
    "                            np.pi * 3 * samples_ucl[:, 1]**2 / (4*np.pi), \n",
    "                            np.pi * 3 * samples_psceri[:, 1]**2 / (4*np.pi), \n",
    "                            np.pi * 3 * samples_praesepe[:, 1]**2 / (4*np.pi), \n",
    "                            np.pi * 3 * samples_ngc6811[:, 1]**2 / (4*np.pi), \n",
    "                            np.pi * 3 * samples_m67[:, 1]**2 / (4*np.pi)])\n",
    "\n",
    "palette = {0.01: cmap(0),\n",
    "           0.016: cmap(1), \n",
    "           0.12: cmap(2),\n",
    "           0.65: cmap(3), \n",
    "           1.0: cmap(4), \n",
    "           4.0: cmap(5)}\n",
    "    \n",
    "plt.figure(figsize=(4,3))\n",
    "seaborn.violinplot(ages, np.log10(fs_series), palette=palette, linewidth=0.5, \n",
    "                   inner='quartiles', scale='area', saturation=1)\n",
    "\n",
    "ax = plt.gca()\n",
    "\n",
    "yticks = ax.get_yticks()\n",
    "\n",
    "ax.set_yticklabels([\"{0:.2g}\".format(10**yt) for yt in yticks])\n",
    "ax.set_ylabel('$f_S$')\n",
    "plt.xlabel('Age [Gyr]')\n",
    "\n",
    "for s in ['right', 'top']: \n",
    "    ax.spines[s].set_visible(False)\n",
    "    \n",
    "plt.savefig('plots/fs_violin.pdf', bbox_inches='tight')"
   ]
  },
  {
   "cell_type": "code",
   "execution_count": 28,
   "metadata": {},
   "outputs": [
    {
     "name": "stdout",
     "output_type": "stream",
     "text": [
      "[-0.39354186 -1.906516  ] [0.15938645 0.21192405]\n"
     ]
    },
    {
     "data": {
      "image/png": "[encoded data removed]",
      "text/plain": [
       "<Figure size 288x216 with 1 Axes>"
      ]
     },
     "metadata": {
      "needs_background": "light"
     },
     "output_type": "display_data"
    }
   ],
   "source": [
    "\n",
    "import scipy.special as sp\n",
    "\n",
    "plt.figure(figsize=(4, 3))\n",
    "\n",
    "ages = np.array([0.01, 0.016, 0.12, 0.65, 1.0, 4])\n",
    "\n",
    "fs_series = np.vstack([np.pi * 3 * samples_usco[:, 1]**2 / (4*np.pi), \n",
    "                       np.pi * 3 * samples_ucl[:, 1]**2 / (4*np.pi), \n",
    "                        np.pi * 3 * samples_psceri[:, 1]**2 / (4*np.pi), \n",
    "                        np.pi * 3 * samples_praesepe[:, 1]**2 / (4*np.pi), \n",
    "                        np.pi * 3 * samples_ngc6811[:, 1]**2 / (4*np.pi), \n",
    "                        np.pi * 3 * samples_m67[:, 1]**2 / (4*np.pi)])\n",
    "\n",
    "colors = [cmap(0), cmap(1), cmap(2), cmap(3), cmap(4), cmap(5)]\n",
    "meds = []\n",
    "yerr = []\n",
    "for a, fs, color in zip(ages, fs_series, colors): \n",
    "    lo, med, hi = np.nanpercentile(np.log10(fs), [16, 50, 84])\n",
    "    meds.append(med)\n",
    "    yerr.append(np.mean([med-lo, hi-med]))\n",
    "    plt.errorbar(np.log10(a), med, [[med-lo], [hi-med]], fmt='o', ecolor='silver', color=color)\n",
    "meds = np.array(meds)\n",
    "yerr = np.array(yerr)\n",
    "    \n",
    "# seaborn.regplot(np.log10(ages), meds, color='gray', scatter=False, order=1, )\n",
    "\n",
    "X = np.vander(np.log10(ages), 2)\n",
    "Omega_0 = np.diag(yerr**2)\n",
    "inv_Omega_0 = np.linalg.inv(Omega_0)\n",
    "c0 = np.linalg.inv(X.T @ inv_Omega_0 @ X) @ X.T @ inv_Omega_0 @ np.array(meds)\n",
    "c0err = np.diag(np.linalg.inv(X.T @ inv_Omega_0 @ X))**0.5\n",
    "print(c0, c0err)\n",
    "\n",
    "# https://stackoverflow.com/questions/25994048/confidence-regions-of-1sigma-for-a-2d-plot\n",
    "## These multipliers are used in constructing the intervals.\n",
    "## Get the coefficient estimates.\n",
    "X_fine = np.vander(np.linspace(X[:, 0].min(), X[:, 0].max(), 100), 2)\n",
    "Yhat = X_fine @ c0\n",
    "n = len(X_fine)#len(meds)\n",
    "Y = meds\n",
    "U, s, vt = np.linalg.svd(X_fine, False)\n",
    "\n",
    "s = 2*np.mean(yerr) \n",
    "\n",
    "## These multipliers are used in constructing the intervals.\n",
    "XtX = np.dot(np.transpose(X_fine), X_fine)\n",
    "V = [np.dot(X_fine[i,:], np.linalg.solve(XtX, X_fine[i,:])) for i in range(n)]\n",
    "V = np.array(V)\n",
    "\n",
    "## The F quantile used in constructing the Scheffe interval.\n",
    "QF = sp.fdtri(X.shape[1], n-X.shape[1], 0.95)\n",
    "QF_2 = sp.fdtri(X.shape[1], n-X.shape[1], 0.68)\n",
    "\n",
    "## The lower and upper bounds of the Scheffe band.\n",
    "D = s * np.sqrt(X.shape[1] * QF * V)\n",
    "# LB, UB = Yhat-D, Yhat+D\n",
    "D_2 = s*np.sqrt(X.shape[1] * QF_2 * V)\n",
    "LB_2, UB_2 = Yhat-D_2, Yhat+D_2\n",
    "\n",
    "plt.plot(np.log10(ages), X @ c0, color='gray')\n",
    "plt.fill_between(X_fine[:, 0], LB_2, UB_2, \n",
    "                 where=(UB_2 >= LB_2), facecolor='silver', alpha=0.3)\n",
    "ax = plt.gca()\n",
    "\n",
    "xticks = ax.get_xticks()\n",
    "ax.set_xticklabels([\"{0:.2g}\".format(10**xt) for xt in xticks])\n",
    "ax.set_xlabel('Age [Gyr]')\n",
    "\n",
    "yticks = [-2, -1]\n",
    "ax.set_yticks(yticks)\n",
    "ax.set_yticklabels([\"{0:.2f}\".format(10**yt) for yt in yticks])\n",
    "ax.set_ylabel('$f_S$')\n",
    "\n",
    "ax.set_yticks(np.log10(np.arange(0.001, 0.01, 0.001)).tolist() + \n",
    "              np.log10(np.arange(0.01, 0.1, 0.01)).tolist() + \n",
    "              np.log10(np.arange(0.1, 1, 0.1)).tolist(), minor=True)\n",
    "\n",
    "ax.set_ylim(np.log10([0.002, 0.25]))\n",
    "plt.xlabel('Age [Gyr]')\n",
    "# ax.grid(ls=':')\n",
    "\n",
    "for s in ['right', 'top']: \n",
    "    ax.spines[s].set_visible(False)\n",
    "    \n",
    "plt.savefig('plots/fs_trend.pdf', bbox_inches='tight')"
   ]
  },
  {
   "cell_type": "code",
   "execution_count": 29,
   "metadata": {},
   "outputs": [
    {
     "name": "stdout",
     "output_type": "stream",
     "text": [
      "{0.012}^{+0.020}_{-0.008}\n"
     ]
    }
   ],
   "source": [
    "a, a_upper, a_lower = 10**c0[1], 10**(c0[1] + c0err[1]), 10**(c0[1] - c0err[1])\n",
    "\n",
    "print(\"{{{0:.3f}}}^{{+{1:.3f}}}_{{-{2:.3f}}}\".format(a, a_upper, a_lower))"
   ]
  },
  {
   "cell_type": "code",
   "execution_count": 30,
   "metadata": {},
   "outputs": [
    {
     "data": {
      "text/plain": [
       "0.007495039350768221"
      ]
     },
     "execution_count": 30,
     "metadata": {},
     "output_type": "execute_result"
    }
   ],
   "source": [
    "a * 4.6 ** -0.33"
   ]
  },
  {
   "cell_type": "code",
   "execution_count": null,
   "metadata": {},
   "outputs": [],
   "source": []
  }
 ],
 "metadata": {
  "kernelspec": {
   "display_name": "Python 3",
   "language": "python",
   "name": "python3"
  },
  "language_info": {
   "codemirror_mode": {
    "name": "ipython",
    "version": 3
   },
   "file_extension": ".py",
   "mimetype": "text/x-python",
   "name": "python",
   "nbconvert_exporter": "python",
   "pygments_lexer": "ipython3",
   "version": "3.7.3"
  }
 },
 "nbformat": 4,
 "nbformat_minor": 4
}
