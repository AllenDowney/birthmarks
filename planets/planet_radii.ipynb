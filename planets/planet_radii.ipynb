{
 "cells": [
  {
   "cell_type": "code",
   "execution_count": 2,
   "metadata": {},
   "outputs": [],
   "source": [
    "%matplotlib inline\n",
    "import matplotlib.pyplot as plt\n",
    "import numpy as np\n",
    "import astropy.units as u\n",
    "\n",
    "from fleck import Star, generate_spots"
   ]
  },
  {
   "cell_type": "code",
   "execution_count": 66,
   "metadata": {},
   "outputs": [
    {
     "name": "stdout",
     "output_type": "stream",
     "text": [
      "f_S = 0.12000000000000002\n"
     ]
    },
    {
     "data": {
      "image/png": "[encoded data removed]",
      "text/plain": [
       "<Figure size 288x216 with 1 Axes>"
      ]
     },
     "metadata": {
      "needs_background": "light"
     },
     "output_type": "display_data"
    },
    {
     "name": "stdout",
     "output_type": "stream",
     "text": [
      "radius amplification factor = 0.04966767811417326\n",
      "\n",
      "\n"
     ]
    }
   ],
   "source": [
    "\n",
    "radii_range = [0.4]\n",
    "u_ld = [0.4, 0.2]\n",
    "s = Star(0.7, u_ld, n_phases=30)\n",
    "b = 0\n",
    "#planet_radius = [0.1, 0.01]\n",
    "\n",
    "planet_radius = [0.1]\n",
    "n_spots = 3\n",
    "n_incs = 50000\n",
    "\n",
    "for radii in radii_range:\n",
    "    for prad in planet_radius:\n",
    "\n",
    "        lons, lats, rads, incs = generate_spots(min_latitude=-45, max_latitude=45, spot_radius=radii, \n",
    "                                                n_spots=n_spots, inclinations=90*u.deg * np.ones(n_incs))\n",
    "        f_S = radii**2 * n_spots / 4\n",
    "\n",
    "        print(f'f_S = {f_S}')\n",
    "\n",
    "        lcs = s.light_curve(lons, lats, rads, incs)\n",
    "\n",
    "        lambda_max = (prad**2 * (1 - u_ld[0] * (1 - np.sqrt(1 - b**2)) - u_ld[1] * (1 - np.sqrt(1 - b**2))**2) / \n",
    "                      (1 - u_ld[0]/3 - u_ld[1]/6))\n",
    "        inferred_radius = np.sqrt(lambda_max / (1-lcs.ptp(axis=0)))\n",
    "        amplification_factor = (inferred_radius / lambda_max**0.5) - 1\n",
    "        plt.figure(figsize=(4, 3))\n",
    "        plt.hist(amplification_factor, lw=2, color='k', histtype='step', bins=25, density=True)\n",
    "#         plt.yticks([])\n",
    "        plt.ylabel('Probability density')\n",
    "        plt.xlabel('Radius Amplification Factor')\n",
    "        ax = plt.gca()\n",
    "        \n",
    "        for sp in 'right top'.split():\n",
    "            ax.spines[sp].set_visible(False)\n",
    "        plt.savefig('plots/rad_amp.pdf', bbox_inches='tight')\n",
    "        plt.show()\n",
    "#         amp_factor = (lambda_max / lcs.min()) / (lambda_max / lcs.max()) - 1\n",
    "        print(f'radius amplification factor = {amplification_factor.mean()}\\n\\n')\n",
    "\n",
    "    \n",
    "    \n",
    "#         plt.plot(lcs);\n",
    "#         plt.show()"
   ]
  },
  {
   "cell_type": "code",
   "execution_count": null,
   "metadata": {},
   "outputs": [],
   "source": []
  }
 ],
 "metadata": {
  "kernelspec": {
   "display_name": "Python 3",
   "language": "python",
   "name": "python3"
  },
  "language_info": {
   "codemirror_mode": {
    "name": "ipython",
    "version": 3
   },
   "file_extension": ".py",
   "mimetype": "text/x-python",
   "name": "python",
   "nbconvert_exporter": "python",
   "pygments_lexer": "ipython3",
   "version": "3.7.3"
  }
 },
 "nbformat": 4,
 "nbformat_minor": 4
}
